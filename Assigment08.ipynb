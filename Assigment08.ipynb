{
 "cells": [
  {
   "cell_type": "markdown",
   "metadata": {
    "id": "uW90Ln-fOb_t"
   },
   "source": [
    "## Assignment 8"
   ]
  },
  {
   "cell_type": "markdown",
   "metadata": {
    "id": "kCfGvtAtOyoV"
   },
   "source": []
  },
  {
   "cell_type": "markdown",
   "metadata": {
    "id": "UKkRNqnDPJn-"
   },
   "source": [
    "## Q1"
   ]
  },
  {
   "cell_type": "markdown",
   "metadata": {
    "id": "pkN6Mpw0ObdP"
   },
   "source": [
    " In Python, an exception is an error that occurs during the execution of a program. When an exceptional situation arises, Python raises an exception, which interrupts the normal flow of the program and transfers control to an exception handler. Exceptions allow you to handle errors and unexpected situations gracefully, rather than abruptly terminating the program."
   ]
  },
  {
   "cell_type": "markdown",
   "metadata": {
    "id": "Di5EUo8iPzY8"
   },
   "source": [
    "## Q.2 "
   ]
  },
  {
   "cell_type": "markdown",
   "metadata": {
    "id": "NM6sr0YDPRQl"
   },
   "source": [
    "When an exception is not handled in Python, it leads to an unhandled exception, which causes the program to terminate abruptly. The default behavior in Python is to print a traceback message that shows the exception type, the line of code where the exception occurred, and the call stack leading to that point. After printing the traceback, the program exits, and any remaining code or operations are not executed."
   ]
  },
  {
   "cell_type": "code",
   "execution_count": 1,
   "metadata": {
    "id": "6Y-XY9T_OaI0"
   },
   "outputs": [
    {
     "ename": "ZeroDivisionError",
     "evalue": "division by zero",
     "output_type": "error",
     "traceback": [
      "\u001b[1;31m---------------------------------------------------------------------------\u001b[0m",
      "\u001b[1;31mZeroDivisionError\u001b[0m                         Traceback (most recent call last)",
      "Cell \u001b[1;32mIn[1], line 9\u001b[0m\n\u001b[0;32m      6\u001b[0m num1 \u001b[38;5;241m=\u001b[39m \u001b[38;5;241m10\u001b[39m\n\u001b[0;32m      7\u001b[0m num2 \u001b[38;5;241m=\u001b[39m \u001b[38;5;241m0\u001b[39m\n\u001b[1;32m----> 9\u001b[0m result \u001b[38;5;241m=\u001b[39m divide_numbers(num1, num2)\n\u001b[0;32m     10\u001b[0m \u001b[38;5;28mprint\u001b[39m(\u001b[38;5;124m\"\u001b[39m\u001b[38;5;124mResult:\u001b[39m\u001b[38;5;124m\"\u001b[39m, result)\n",
      "Cell \u001b[1;32mIn[1], line 2\u001b[0m, in \u001b[0;36mdivide_numbers\u001b[1;34m(a, b)\u001b[0m\n\u001b[0;32m      1\u001b[0m \u001b[38;5;28;01mdef\u001b[39;00m \u001b[38;5;21mdivide_numbers\u001b[39m(a, b):\n\u001b[1;32m----> 2\u001b[0m     result \u001b[38;5;241m=\u001b[39m a \u001b[38;5;241m/\u001b[39m b\n\u001b[0;32m      3\u001b[0m     \u001b[38;5;28;01mreturn\u001b[39;00m result\n",
      "\u001b[1;31mZeroDivisionError\u001b[0m: division by zero"
     ]
    }
   ],
   "source": [
    "\n",
    "def divide_numbers(a, b):\n",
    "    result = a / b\n",
    "    return result\n",
    "\n",
    "\n",
    "num1 = 10\n",
    "num2 = 0\n",
    "\n",
    "result = divide_numbers(num1, num2)\n",
    "print(\"Result:\", result)\n"
   ]
  },
  {
   "cell_type": "markdown",
   "metadata": {
    "id": "z_nkQmAGQ8nU"
   },
   "source": [
    "n this example, we have a function divide_numbers that divides two numbers. In the main code, we call this function with num1 as 10 and num2 as 0, which will raise a ZeroDivisionError exception because we are attempting to divide by zero.\n",
    "\n",
    "If we run this code without any exception handling, the program will terminate with an unhandled exception and display a traceback message"
   ]
  },
  {
   "cell_type": "markdown",
   "metadata": {
    "id": "CKH1BLTrRCp4"
   },
   "source": [
    "## Q3 "
   ]
  },
  {
   "cell_type": "markdown",
   "metadata": {
    "id": "PRQ9Ab9SRNI_"
   },
   "source": [
    "In Python, the try-except statement is used to catch and handle exceptions. The try block contains the code that might raise an exception, and the except block specifies the code to be executed when a specific exception is raised.\n",
    "\n",
    "Here's the basic syntax of a try-except statement:"
   ]
  },
  {
   "cell_type": "markdown",
   "metadata": {
    "id": "EqBmP4xCSc6u"
   },
   "source": [
    "try:\n",
    "    # Code that might raise an exception\n",
    "    # ...\n",
    "except ExceptionType:\n",
    "    # Code to handle the exception\n",
    "    # ...\n"
   ]
  },
  {
   "cell_type": "markdown",
   "metadata": {
    "id": "bw61N55uRWNW"
   },
   "source": [
    "Here's an example that demonstrates the usage of try-except to handle the ZeroDivisionError exception:"
   ]
  },
  {
   "cell_type": "code",
   "execution_count": 2,
   "metadata": {
    "colab": {
     "base_uri": "https://localhost:8080/"
    },
    "id": "VunqvMJXRdP-",
    "outputId": "3f066b14-7245-4e60-c365-75cccabae303"
   },
   "outputs": [
    {
     "name": "stdout",
     "output_type": "stream",
     "text": [
      "Error: Division by zero is not allowed.\n"
     ]
    }
   ],
   "source": [
    "def divide_numbers(a, b):\n",
    "    try:\n",
    "        result = a / b\n",
    "        print(\"Result:\", result)\n",
    "    except ZeroDivisionError:\n",
    "        print(\"Error: Division by zero is not allowed.\")\n",
    "\n",
    "# Main code\n",
    "num1 = 10\n",
    "num2 = 0\n",
    "\n",
    "divide_numbers(num1, num2)\n"
   ]
  },
  {
   "cell_type": "markdown",
   "metadata": {
    "id": "NjbfCx6sS0-c"
   },
   "source": [
    "## Q4"
   ]
  },
  {
   "cell_type": "markdown",
   "metadata": {
    "id": "kdtXBRJjS-rC"
   },
   "source": [
    "a. try and else:\n",
    "\n",
    "The try-else statement is used when you want to specify a block of code to be executed if no exceptions are raised in the try block. The else block is executed immediately after the try block, but only if no exceptions occurred.\n",
    "\n",
    "Here's an example to demonstrate the usage of try-else:"
   ]
  },
  {
   "cell_type": "code",
   "execution_count": 3,
   "metadata": {
    "colab": {
     "base_uri": "https://localhost:8080/"
    },
    "id": "rEPLEskyTFiC",
    "outputId": "c05d78b5-35bf-4b93-f2e4-a5275051b83a"
   },
   "outputs": [
    {
     "name": "stdin",
     "output_type": "stream",
     "text": [
      "Enter a number:  5\n",
      "Enter another number:  5\n"
     ]
    },
    {
     "name": "stdout",
     "output_type": "stream",
     "text": [
      "The division result is: 1.0\n"
     ]
    }
   ],
   "source": [
    "try:\n",
    "    num1 = int(input(\"Enter a number: \"))\n",
    "    num2 = int(input(\"Enter another number: \"))\n",
    "    result = num1 / num2\n",
    "except ValueError:\n",
    "    print(\"Invalid input. Please enter numbers.\")\n",
    "except ZeroDivisionError:\n",
    "    print(\"Error: Division by zero is not allowed.\")\n",
    "else:\n",
    "    print(\"The division result is:\", result)\n"
   ]
  },
  {
   "cell_type": "markdown",
   "metadata": {
    "id": "YRiqJIMnTEtR"
   },
   "source": [
    "b. finally:\n",
    "\n",
    "The finally block is used to specify a block of code that will be executed regardless of whether an exception was raised or not. It ensures that certain cleanup or finalization tasks are performed, such as closing files or releasing resources, irrespective of whether an exception occurred.\n",
    "\n",
    "Here's an example that demonstrates the usage of finally:"
   ]
  },
  {
   "cell_type": "code",
   "execution_count": 4,
   "metadata": {
    "colab": {
     "base_uri": "https://localhost:8080/"
    },
    "id": "dyLcdcA6TN1X",
    "outputId": "5559d621-ef20-44dd-f1a2-8a0795adbc8c"
   },
   "outputs": [
    {
     "name": "stdout",
     "output_type": "stream",
     "text": [
      "Error: File not found.\n"
     ]
    }
   ],
   "source": [
    "file = None\n",
    "try:\n",
    "    file = open(\"data.txt\", \"r\")\n",
    "    content = file.read()\n",
    "    print(\"File content:\", content)\n",
    "except FileNotFoundError:\n",
    "    print(\"Error: File not found.\")\n",
    "finally:\n",
    "    if file is not None:\n",
    "        file.close()\n",
    "        print(\"File closed.\")\n"
   ]
  },
  {
   "cell_type": "markdown",
   "metadata": {
    "id": "_pwzuF3RTQX0"
   },
   "source": [
    "c. raise:\n",
    "\n",
    "The raise statement is used to manually raise an exception in Python. It allows you to generate and raise exceptions based on specific conditions or custom logic.\n",
    "\n",
    "Here's an example that shows how to use raise to raise a custom exception:"
   ]
  },
  {
   "cell_type": "code",
   "execution_count": 5,
   "metadata": {
    "colab": {
     "base_uri": "https://localhost:8080/"
    },
    "id": "-PZ7IkHVTPkC",
    "outputId": "8ba79665-9df1-4e80-e9a8-66e80d146d5a"
   },
   "outputs": [
    {
     "name": "stdin",
     "output_type": "stream",
     "text": [
      "Enter a number:  5\n"
     ]
    },
    {
     "name": "stdout",
     "output_type": "stream",
     "text": [
      "Factorial: 120\n"
     ]
    }
   ],
   "source": [
    "def calculate_factorial(n):\n",
    "    if n < 0:\n",
    "        raise ValueError(\"Factorial is not defined for negative numbers.\")\n",
    "    factorial = 1\n",
    "    for i in range(1, n + 1):\n",
    "        factorial *= i\n",
    "    return factorial\n",
    "\n",
    "try:\n",
    "    number = int(input(\"Enter a number: \"))\n",
    "    result = calculate_factorial(number)\n",
    "    print(\"Factorial:\", result)\n",
    "except ValueError as e:\n",
    "    print(\"Error:\", str(e))\n"
   ]
  },
  {
   "cell_type": "markdown",
   "metadata": {
    "id": "4gR8wgK7T_se"
   },
   "source": [
    "## Q5"
   ]
  },
  {
   "cell_type": "markdown",
   "metadata": {
    "id": "Gcoq2TgfUHYq"
   },
   "source": [
    "Custom exceptions in Python are user-defined exceptions that inherit from the built-in Exception class or any of its subclasses. They allow you to create specialized exception types tailored to your specific application or problem domain.\n",
    "\n",
    "We need custom exceptions in Python for the following reasons:\n",
    "\n",
    "Clear and informative error messages: By creating custom exceptions, you can provide more specific and meaningful error messages that help in understanding and troubleshooting issues within your code. Custom exceptions can convey the nature of the error or exceptional condition more accurately.\n",
    "\n",
    "Modularity and code organization: Custom exceptions help in structuring your code and separating different types of errors or exceptional situations into distinct exception classes. This promotes modularity and makes the code more readable and maintainable.\n",
    "\n",
    "Exception handling and error-specific actions: Custom exceptions allow you to handle different types of errors or exceptional situations differently. You can catch specific custom exceptions and perform specialized actions or error recovery procedures based on the specific exception type.\n",
    "\n",
    "Here's an example that demonstrates the usage of a custom exception:"
   ]
  },
  {
   "cell_type": "code",
   "execution_count": 6,
   "metadata": {
    "colab": {
     "base_uri": "https://localhost:8080/"
    },
    "id": "rtV6W1x7TU3X",
    "outputId": "668ba418-daf5-4df6-ba4a-52ee609339fe"
   },
   "outputs": [
    {
     "name": "stdout",
     "output_type": "stream",
     "text": [
      "Error: Insufficient funds.\n"
     ]
    }
   ],
   "source": [
    "class WithdrawalError(Exception):\n",
    "    pass\n",
    "\n",
    "class BankAccount:\n",
    "    def __init__(self, balance):\n",
    "        self.balance = balance\n",
    "\n",
    "    def withdraw(self, amount):\n",
    "        if amount > self.balance:\n",
    "            raise WithdrawalError(\"Insufficient funds.\")\n",
    "        self.balance -= amount\n",
    "        print(\"Withdrawal successful. Remaining balance:\", self.balance)\n",
    "\n",
    "# Example usage\n",
    "account = BankAccount(1000)\n",
    "try:\n",
    "    account.withdraw(1500)\n",
    "except WithdrawalError as e:\n",
    "    print(\"Error:\", str(e))\n",
    "\n"
   ]
  },
  {
   "cell_type": "markdown",
   "metadata": {
    "id": "CiZqp5SIVvCX"
   },
   "source": [
    "## Q6 "
   ]
  },
  {
   "cell_type": "code",
   "execution_count": 7,
   "metadata": {
    "colab": {
     "base_uri": "https://localhost:8080/"
    },
    "id": "xzpkWmLuUN_L",
    "outputId": "82ec46cc-c399-491e-e446-b2290e0b08ca"
   },
   "outputs": [
    {
     "name": "stdout",
     "output_type": "stream",
     "text": [
      "Custom Exception: Negative values are not allowed.\n"
     ]
    }
   ],
   "source": [
    "class CustomException(Exception):\n",
    "    def __init__(self, message):\n",
    "        self.message = message\n",
    "\n",
    "    def __str__(self):\n",
    "        return f\"Custom Exception: {self.message}\"\n",
    "\n",
    "def perform_operation(value):\n",
    "    if value < 0:\n",
    "        raise CustomException(\"Negative values are not allowed.\")\n",
    "    else:\n",
    "        print(\"Operation performed successfully.\")\n",
    "\n",
    "# Example usage\n",
    "try:\n",
    "    perform_operation(-5)\n",
    "except CustomException as e:\n",
    "    print(e)\n"
   ]
  },
  {
   "cell_type": "code",
   "execution_count": null,
   "metadata": {
    "id": "itcytYdeV55n"
   },
   "outputs": [],
   "source": []
  }
 ],
 "metadata": {
  "colab": {
   "provenance": []
  },
  "kernelspec": {
   "display_name": "Python 3 (ipykernel)",
   "language": "python",
   "name": "python3"
  },
  "language_info": {
   "codemirror_mode": {
    "name": "ipython",
    "version": 3
   },
   "file_extension": ".py",
   "mimetype": "text/x-python",
   "name": "python",
   "nbconvert_exporter": "python",
   "pygments_lexer": "ipython3",
   "version": "3.11.7"
  }
 },
 "nbformat": 4,
 "nbformat_minor": 4
}
